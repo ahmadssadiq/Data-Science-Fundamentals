{
 "cells": [
  {
   "attachments": {},
   "cell_type": "markdown",
   "metadata": {},
   "source": [
    "# Worksheet 07\n",
    "\n",
    "Name:  Ahmad Sadiq\n",
    "UID: U37260345  \n",
    "\n",
    "### Topics\n",
    "\n",
    "- Density-Based Clustering\n",
    "\n",
    "### Density-Based Clustering\n",
    "\n",
    "Follow along with the live coding of the DBScan algorithm."
   ]
  },
  {
   "cell_type": "code",
   "execution_count": 1,
   "metadata": {},
   "outputs": [
    {
     "ename": "SyntaxError",
     "evalue": "closing parenthesis ']' does not match opening parenthesis '(' (66348390.py, line 44)",
     "output_type": "error",
     "traceback": [
      "\u001b[0;36m  Cell \u001b[0;32mIn[1], line 44\u001b[0;36m\u001b[0m\n\u001b[0;31m    neighbor_queue.append(i in next_neighborhood if assignments[i] == 0])\u001b[0m\n\u001b[0m                                                                       ^\u001b[0m\n\u001b[0;31mSyntaxError\u001b[0m\u001b[0;31m:\u001b[0m closing parenthesis ']' does not match opening parenthesis '('\n"
     ]
    }
   ],
   "source": [
    "import numpy as np\n",
    "import matplotlib.pyplot as plt\n",
    "import sklearn.datasets as datasets\n",
    "\n",
    "centers = [[1, 1], [-1, -1], [1, -1]]\n",
    "X, _ = datasets.make_blobs(n_samples=750, centers=centers, cluster_std=0.4,\n",
    "                            random_state=0)\n",
    "plt.scatter(X[:,0],X[:,1],s=10, alpha=0.8)\n",
    "plt.show()\n",
    "\n",
    "class DBC():\n",
    "\n",
    "    def __init__(self, dataset, min_pts, epsilon):\n",
    "        self.assignments = [0 for _ in range(len(self.dataset))]\n",
    "        self.dataset = dataset\n",
    "        self.min_pts = min_pts\n",
    "        self.epsilon = epsilon\n",
    "\n",
    "    def is_core(self, i):\n",
    "       return self.get_neighborhood(i) >= self.min_pts\n",
    "\n",
    "    def distance(self, i, j):\n",
    "        #returns the euclidean distance\n",
    "        return np.linalg.norm(np.array([self.dataset[i] - self.dataset[j]])) #possible bug\n",
    "    \n",
    "    def get_neighborhood(self, i):\n",
    "        neighborhood = []\n",
    "        for j in range(len(self.dataset)):\n",
    "            if self.distance(i,j) <= self.epsilon and i != j:\n",
    "                neighborhood.append(j)\n",
    "        return neighborhood\n",
    "\n",
    "\n",
    "    def assign(self, i, cluster_num):\n",
    "        self.assignments[i] = cluster_num\n",
    "        neighbor_queue = self.get_neighborhood(i)\n",
    "        \n",
    "        while neighbor_queue:\n",
    "            next_candidate = neighbor_queue.pop()\n",
    "            if self.is_core(next_candidate):\n",
    "                self.assignments[next_candidate] = cluster_num\n",
    "                neighbor_queue.append(self.get_neighborhood(next_candidate))\n",
    "                next_neighborhood = self.get_neighborhood(next_candidate)\n",
    "                neighbor_queue.append(\n",
    "                    [i for i in next_neighborhood if self.assignments[i] == 0]\n",
    "                )\n",
    "\n",
    "        return\n",
    "\n",
    "    def dbscan(self):\n",
    "        \"\"\"\n",
    "        returns a list of assignments. The index of the\n",
    "        assignment should match the index of the data point\n",
    "        in the dataset.\n",
    "        \"\"\"\n",
    "        \n",
    "        cluster_num = 1\n",
    "        for i in range (len(self.dataset)):\n",
    "            if self.is_core(i) and self.assignments[i] == 0:\n",
    "                self.assign(i, cluster_num)\n",
    "                cluster_num +=1\n",
    "        return self.assignments\n",
    "    \n",
    "clustering = DBC(X, 3, .2).dbscan()\n",
    "colors = np.array([x for x in 'bgrcmykbgrcmykbgrcmykbgrcmyk'])\n",
    "colors = np.hstack([colors] * 20)\n",
    "plt.scatter(X[:, 0], X[:, 1], color=colors[clustering].tolist(), s=10, alpha=0.8)\n",
    "plt.show()"
   ]
  },
  {
   "cell_type": "code",
   "execution_count": null,
   "metadata": {},
   "outputs": [],
   "source": []
  }
 ],
 "metadata": {
  "kernelspec": {
   "display_name": "Python 3",
   "language": "python",
   "name": "python3"
  },
  "language_info": {
   "codemirror_mode": {
    "name": "ipython",
    "version": 3
   },
   "file_extension": ".py",
   "mimetype": "text/x-python",
   "name": "python",
   "nbconvert_exporter": "python",
   "pygments_lexer": "ipython3",
   "version": "3.9.6"
  },
  "orig_nbformat": 4,
  "vscode": {
   "interpreter": {
    "hash": "76ca05dc3ea24b2e3b98cdb7774adfbb40773424bf5109b477fd793f623715af"
   }
  }
 },
 "nbformat": 4,
 "nbformat_minor": 2
}
