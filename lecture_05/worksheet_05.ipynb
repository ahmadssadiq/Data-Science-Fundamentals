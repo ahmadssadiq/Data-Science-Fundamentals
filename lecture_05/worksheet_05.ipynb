{
 "cells": [
  {
   "attachments": {},
   "cell_type": "markdown",
   "metadata": {},
   "source": [
    "# Worksheet 05\n",
    "\n",
    "Name:  Ahmad Sadiq  \n",
    "UID: U37260345\n",
    "\n",
    "### Topics\n",
    "\n",
    "- Cost Functions\n",
    "- Kmeans\n",
    "\n",
    "### Cost Function\n",
    "\n",
    "Solving Data Science problems often starts by defining a metric with which to evaluate solutions were you able to find some. This metric is called a cost function. Data Science then backtracks and tries to find a process / algorithm to find solutions that can optimize for that cost function.\n",
    "\n",
    "For example suppose you are asked to cluster three points A, B, C into two non-empty clusters. If someone gave you the solution `{A, B}, {C}`, how would you evaluate that this is a good solution?\n",
    "\n",
    "Notice that because the clusters need to be non-empty and all points must be assigned to a cluster, it must be that two of the three points will be together in one cluster and the third will be alone in the other cluster.\n",
    "\n",
    "In the above solution, if A and B are closer than A and C, and B and C, then this is a good solution. The smaller the distance between the two points in the same cluster (here A and B), the better the solution. So we can define our cost function to be that distance (between A and B here)!\n",
    "\n",
    "The algorithm / process would involve clustering together the two closest points and put the third in its own cluster. This process optimizes for that cost function because no other pair of points could have a lower distance (although it could equal it)."
   ]
  },
  {
   "cell_type": "markdown",
   "metadata": {},
   "source": [
    "### K means\n",
    "\n",
    "a) (1-dimensional clustering) Walk through Lloyd's algorithm step by step on the following dataset:\n",
    "\n",
    "`[0, .5, 1.5, 2, 6, 6.5, 7]` (note: each of these are 1-dimensional data points)\n",
    "\n",
    "Given the initial centroids:\n",
    "\n",
    "`[0, 2]`\n",
    "\n"
   ]
  },
  {
   "cell_type": "markdown",
   "metadata": {},
   "source": [
    "\n",
    "\n",
    "For the data point 0: Centroid 0 is closest.\n",
    "For the data point 0.5: Centroid 0 is closest.\n",
    "For the data point 1.5: Centroid 2 is closer than 0.\n",
    "For the data point 2: Centroid 2 is closest.\n",
    "For the data point 6: Centroid 2 is closer than 0.\n",
    "For the data point 6.5: Centroid 2 is closer than 0.\n",
    "For the data point 7: Centroid 2 is closer than 0.\n",
    "Assigned clusters after Step 1:\n",
    "Cluster 1 (Centroid 0): [0, 0.5]\n",
    "Cluster 2 (Centroid 2): [1.5, 2, 6, 6.5, 7]\n",
    "\n",
    "New centroid for Cluster 1: (0 + 0.5) / 2 = 0.25\n",
    "New centroid for Cluster 2: (1.5 + 2 + 6 + 6.5 + 7) / 5 = 4.6\n",
    "Step 3: Reassign data points to the nearest updated centroid.\n",
    "\n",
    "For the data point 0: Centroid 0.25 is closest.\n",
    "For the data point 0.5: Centroid 0.25 is closest.\n",
    "For the data point 1.5: Centroid 0.25 is closer than 4.6.\n",
    "For the data point 2: Centroid 0.25 is closer than 4.6.\n",
    "For the data point 6: Centroid 4.6 is closest.\n",
    "For the data point 6.5: Centroid 4.6 is closest.\n",
    "For the data point 7: Centroid 4.6 is closest.\n",
    "Assigned clusters after Step 3:\n",
    "Cluster 1 (Centroid 0.25): [0, 0.5, 1.5, 2]\n",
    "Cluster 2 (Centroid 4.6): [6, 6.5, 7]\n",
    "\n",
    "New centroid for Cluster 1: (0 + 0.5 + 1.5 + 2) / 4 = 1\n",
    "New centroid for Cluster 2: (6 + 6.5 + 7) / 3 = 6.5\n",
    "Step 5: Reassign data points to the nearest updated centroid.\n",
    "\n",
    "Using the new centroids of 1 and 6.5, there won't be any change in the clusters from the previous step.\n",
    "\n",
    "Therefore, the algorithm has converged with the following clusters:\n",
    "Cluster 1 (Centroid 1): [0, 0.5, 1.5, 2]\n",
    "Cluster 2 (Centroid 6.5): [6, 6.5, 7]"
   ]
  },
  {
   "cell_type": "markdown",
   "metadata": {},
   "source": [
    "b) Describe in plain english what the cost function for k means is."
   ]
  },
  {
   "cell_type": "markdown",
   "metadata": {},
   "source": [
    "The cost function for K-means is a way to evaluate and compare different clustering solutions. The main idea behind the cost function is to measure how far each data point is from the center (centroid) of its assigned cluster. "
   ]
  },
  {
   "cell_type": "markdown",
   "metadata": {},
   "source": [
    "c) For the same number of clusters K, why could there be very different solutions to the K means algorithm on a given dataset?"
   ]
  },
  {
   "cell_type": "markdown",
   "metadata": {},
   "source": [
    "Different solutions in K-means clustering arise due to random centroid initialization, the algorithm getting stuck in local optima, and sensitivity to outliers. Running K-means multiple times with varied initializations can help achieve a more consistent solution."
   ]
  },
  {
   "cell_type": "markdown",
   "metadata": {},
   "source": [
    "ad) Does Lloyd's Algorithm always converge? Why / why not?"
   ]
  },
  {
   "cell_type": "markdown",
   "metadata": {},
   "source": [
    "Lloyd's Algorithm for K-means clustering does always converge. The reason is that the algorithm iteratively refines the assignment of data points to clusters and recalculates centroids, which reduces the cost function (sum of squared distances) in each step."
   ]
  },
  {
   "attachments": {},
   "cell_type": "markdown",
   "metadata": {},
   "source": [
    "e) Follow along in class the implementation of Kmeans"
   ]
  },
  {
   "cell_type": "code",
   "execution_count": null,
   "metadata": {},
   "outputs": [],
   "source": [
    "import numpy as np\n",
    "from PIL import Image as im\n",
    "import matplotlib.pyplot as plt\n",
    "import sklearn.datasets as datasets\n",
    "\n",
    "centers = [[0, 0], [2, 2], [-3, 2], [2, -4]]\n",
    "X, _ = datasets.make_blobs(n_samples=300, centers=centers, cluster_std=1, random_state=0)\n",
    "\n",
    "class KMeans():\n",
    "\n",
    "    def __init__(self, data, k):\n",
    "        self.data = data\n",
    "        self.k = k\n",
    "        self.assignment = [-1 for _ in range(len(data))]\n",
    "        self.snaps = []\n",
    "    \n",
    "    def snap(self, centers):\n",
    "        TEMPFILE = \"temp.png\"\n",
    "\n",
    "        fig, ax = plt.subplots()\n",
    "        ax.scatter(X[:, 0], X[:, 1], c=self.assignment)\n",
    "        ax.scatter(centers[:,0], centers[:, 1], c='r')\n",
    "        fig.savefig(TEMPFILE)\n",
    "        plt.close()\n",
    "        self.snaps.append(im.fromarray(np.asarray(im.open(TEMPFILE))))\n",
    "\n",
    "\n",
    "    def lloyds(self):\n",
    "        ...\n",
    "        return\n",
    "            \n",
    "\n",
    "kmeans = KMeans(X, 6)\n",
    "kmeans.lloyds()\n",
    "images = kmeans.snaps\n",
    "\n",
    "images[0].save(\n",
    "    'kmeans.gif',\n",
    "    optimize=False,\n",
    "    save_all=True,\n",
    "    append_images=images[1:],\n",
    "    loop=0,\n",
    "    duration=500\n",
    ")"
   ]
  }
 ],
 "metadata": {
  "kernelspec": {
   "display_name": "Python 3",
   "language": "python",
   "name": "python3"
  },
  "language_info": {
   "name": "python",
   "version": "3.11.1"
  },
  "orig_nbformat": 4,
  "vscode": {
   "interpreter": {
    "hash": "76ca05dc3ea24b2e3b98cdb7774adfbb40773424bf5109b477fd793f623715af"
   }
  }
 },
 "nbformat": 4,
 "nbformat_minor": 2
}
