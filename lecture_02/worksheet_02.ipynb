{
    "cells": [
        {
            "attachments": {},
            "cell_type": "markdown",
            "metadata": {},
            "source": [
                "# Worksheet 02\n",
                "\n",
                "Name:  Ahmad Sadiq\n",
                "UID: U37260345\n",
                "\n",
                "### Topics\n",
                "\n",
                "- Effective Programming\n",
                "\n",
                "### Effective Programming\n",
                "\n",
                "a) What is a drawback of the top down approach?"
            ]
        },
        {
            "cell_type": "markdown",
            "metadata": {},
            "source": [
                "ain't got runnable code until you have implemented everything. leads to an incomplete understanding of the two detailed requirements."
            ]
        },
        {
            "cell_type": "markdown",
            "metadata": {},
            "source": [
                "b) What is a drawback of the bottom up approach?"
            ]
        },
        {
            "cell_type": "markdown",
            "metadata": {},
            "source": [
                "theres a lack of clear vision when starting with the detailed components which might lead to a lack of clear vision of which direction for the overall system. You may not know everything up front. It is hard to know what the pieces are and how to compose them."
            ]
        },
        {
            "cell_type": "markdown",
            "metadata": {},
            "source": [
                "c) What are 3 things you can do to have a better debugging experience?"
            ]
        },
        {
            "cell_type": "markdown",
            "metadata": {},
            "source": []
        },
        {
            "cell_type": "code",
            "execution_count": null,
            "metadata": {},
            "outputs": [],
            "source": [
                "1. Do one thing by understanding the error\n",
                "2. Witie many functions with small bodies instead of one function with a large body.\n",
                "3. Keep the code simple (boring code is good code) so that the codes are easier to read and deubg."
            ]
        },
        {
            "attachments": {},
            "cell_type": "markdown",
            "metadata": {},
            "source": [
                "d) Follow along with the live coding. You can write your code here:"
            ]
        },
        {
            "cell_type": "code",
            "execution_count": null,
            "metadata": {},
            "outputs": [],
            "source": [
                "class Board:\n",
                "\n",
                "    def __init__(self):\n",
                "        self.board = [[\"_\" for _ in range(8)] for _ in range(8)]\n",
                "\n",
                "    def __repr__(self):\n",
                "        res = \" \"\n",
                "        for row in self.board:\n",
                "            for col in row:\n",
                "                res += col\n",
                "                res += \" \"\n",
                "            res += '\\n'\n",
                "        return res\n",
                "    \n",
                "    def is_legal_row(self, row, col):\n",
                "        for j in range(len(self.board)):\n",
                "            if self.board[row][j] == \"Q\": #make a isqueen function rather than this command line.\n",
                "                return False\n",
                "        return True\n",
                "    \n",
                "    def is_legal_col(self, row, col):\n",
                "        for j in range(len(self.board)):\n",
                "            if self.board[j][col] == \"Q\":\n",
                "                return False\n",
                "        return True\n",
                "    def is_on_board(self,row,col):\n",
                "        return row >=0 and row <8 and col >=0 and col < 8\n",
                "    \n",
                "    def is_legal_diagnol(self, row, col):\n",
                "        for i in range(len(self.board)):\n",
                "            if self.is_on_board(row - i, col - i) and self.board[row-i][col-1] == 'Q':\n",
                "                return False\n",
                "            if self.is_on_board(row - i, col + i) and self.board[row-i][col+1] == 'Q':\n",
                "                return False\n",
                "            if self.is_on_board(row + i, col - i) and self.board[row+i][col-1] == 'Q':\n",
                "                return False\n",
                "            if self.is_on_board(row + i, col + i) and self.board[row+i][col+1] == 'Q':\n",
                "                return False\n",
                "        \n",
                "\n",
                "    def is_legal(self, row, col):\n",
                "        if not self.is_legal_row(row,col):\n",
                "            return False\n",
                "        if not self.is_legal_col(row,col):\n",
                "            return False\n",
                "        if not self.is_legal_diagnol(row,col):\n",
                "            return False\n",
                "        return True\n",
                "    \n",
                "    def set_queen_at(self, row, col):\n",
                "        self.board[row][col] = 'Q'\n",
                "    \n",
                "    def search(self):\n",
                "        row = 0\n",
                "        col = 0\n",
                "        while row < 8:\n",
                "            if row < 8:\n",
                "                if self.is_legal(row,col):\n",
                "                    self.set_queen_at(row, col)\n",
                "                    row+=1\n",
                "                    col = 0\n",
                "                else:\n",
                "                    col+= 1\n",
                "                    while col >=8:\n",
                "                        col = self.get_queen_on(row - 1)\n",
                "                        self.unset_queen_on(row - 1)\n",
                "                        col += 1\n",
                "                        row -= 1\n",
                "            else:\n",
                "                print(\"found a solution\")\n",
                "                print(self)    \n",
                "                while col >= 8:\n",
                "                    col = self.get_queen_on(row - 1)\n",
                "                    self.unset_queen_on(row - 1)\n",
                "                    col += 1\n",
                "                    row -= 1\n",
                "\n",
                "\n",
                "            \n",
                "\n",
                "#to print the board.\n",
                "board = Board()\n",
                "board.search()\n",
                "\n",
                "#if the row becomes less than 0, then backtrack to full amount than theres no 0        \n",
                "        "
            ]
        }
    ],
    "metadata": {
        "kernelspec": {
            "display_name": "Python 3",
            "language": "python",
            "name": "python3"
        },
        "language_info": {
            "name": "python",
            "version": "3.11.1 (main, Dec  7 2022, 00:00:00) [GCC 12.2.1 20221121 (Red Hat 12.2.1-4)]"
        },
        "orig_nbformat": 4,
        "vscode": {
            "interpreter": {
                "hash": "76ca05dc3ea24b2e3b98cdb7774adfbb40773424bf5109b477fd793f623715af"
            }
        }
    },
    "nbformat": 4,
    "nbformat_minor": 2
}
